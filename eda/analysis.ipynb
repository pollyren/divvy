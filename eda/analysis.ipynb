{
 "cells": [
  {
   "cell_type": "markdown",
   "id": "16a6f09a",
   "metadata": {},
   "source": [
    "# Divvy Exploratory Data Analysis"
   ]
  },
  {
   "cell_type": "markdown",
   "id": "7e5eb6e1",
   "metadata": {},
   "source": [
    "### Preliminaries"
   ]
  },
  {
   "cell_type": "code",
   "execution_count": 54,
   "id": "46f3751d",
   "metadata": {},
   "outputs": [],
   "source": [
    "import pandas as pd\n",
    "import os\n",
    "from datetime import datetime\n",
    "import seaborn as sns\n",
    "import numpy as np\n",
    "from matplotlib import pyplot as plt"
   ]
  },
  {
   "cell_type": "code",
   "execution_count": 77,
   "id": "54753d28",
   "metadata": {},
   "outputs": [],
   "source": [
    "colours = ['#D5573B','#074F57','#077187','#9ECE9A','#D7CEB2']\n",
    "sns.set_palette(colours)"
   ]
  },
  {
   "cell_type": "code",
   "execution_count": 4,
   "id": "72aa4a89",
   "metadata": {},
   "outputs": [],
   "source": [
    "dtypes = {\n",
    "    'ride_id': str,\n",
    "    'rideable_type': str,\n",
    "    'started_at': str,\n",
    "    'ended_at': str,\n",
    "    'start_station_name': str,\n",
    "    'start_station_id': str,\n",
    "    'end_station_name': str,\n",
    "    'end_station_id': str,\n",
    "    'start_lat': float,\n",
    "    'start_lng': float,\n",
    "    'end_lat': float,\n",
    "    'end_lng': float,\n",
    "    'member_casual': str,\n",
    "    'time': float,\n",
    "    'distance': float,\n",
    "}"
   ]
  },
  {
   "cell_type": "code",
   "execution_count": 6,
   "id": "8ed92f7a",
   "metadata": {},
   "outputs": [],
   "source": [
    "data_path = os.getcwd() + '/../data/data_dist_time.csv'\n",
    "data = pd.read_csv(data_path, dtype=dtypes, index_col=0)"
   ]
  },
  {
   "cell_type": "code",
   "execution_count": 10,
   "id": "daf4f875",
   "metadata": {},
   "outputs": [],
   "source": [
    "data['started_at'] = pd.to_datetime(data['started_at'])\n",
    "data['ended_at'] = pd.to_datetime(data['ended_at'])\n",
    "data['time'] = data['time'].div(60)"
   ]
  },
  {
   "cell_type": "code",
   "execution_count": 11,
   "id": "b10b192f",
   "metadata": {
    "scrolled": true
   },
   "outputs": [
    {
     "name": "stdout",
     "output_type": "stream",
     "text": [
      "<class 'pandas.core.frame.DataFrame'>\n",
      "Index: 16031963 entries, 0 to 16048416\n",
      "Data columns (total 15 columns):\n",
      " #   Column              Dtype         \n",
      "---  ------              -----         \n",
      " 0   ride_id             object        \n",
      " 1   rideable_type       object        \n",
      " 2   started_at          datetime64[ns]\n",
      " 3   ended_at            datetime64[ns]\n",
      " 4   start_station_name  object        \n",
      " 5   start_station_id    object        \n",
      " 6   end_station_name    object        \n",
      " 7   end_station_id      object        \n",
      " 8   start_lat           float64       \n",
      " 9   start_lng           float64       \n",
      " 10  end_lat             float64       \n",
      " 11  end_lng             float64       \n",
      " 12  member_casual       object        \n",
      " 13  time                float64       \n",
      " 14  distance            float64       \n",
      "dtypes: datetime64[ns](2), float64(6), object(7)\n",
      "memory usage: 1.9+ GB\n"
     ]
    }
   ],
   "source": [
    "data.info()"
   ]
  },
  {
   "cell_type": "code",
   "execution_count": 91,
   "id": "41b2e699",
   "metadata": {},
   "outputs": [],
   "source": [
    "data['year'] = data['started_at'].dt.year\n",
    "data['month'] = data['started_at'].dt.month\n",
    "data['hour'] = data['started_at'].dt.hour\n",
    "\n",
    "data.year = data.year.astype('category')\n",
    "data.month = data.month.astype('category')\n",
    "data.hour = data.hour.astype('category')"
   ]
  },
  {
   "cell_type": "code",
   "execution_count": 92,
   "id": "275f0260",
   "metadata": {},
   "outputs": [
    {
     "data": {
      "text/html": [
       "<div>\n",
       "<style scoped>\n",
       "    .dataframe tbody tr th:only-of-type {\n",
       "        vertical-align: middle;\n",
       "    }\n",
       "\n",
       "    .dataframe tbody tr th {\n",
       "        vertical-align: top;\n",
       "    }\n",
       "\n",
       "    .dataframe thead th {\n",
       "        text-align: right;\n",
       "    }\n",
       "</style>\n",
       "<table border=\"1\" class=\"dataframe\">\n",
       "  <thead>\n",
       "    <tr style=\"text-align: right;\">\n",
       "      <th></th>\n",
       "      <th>ride_id</th>\n",
       "      <th>rideable_type</th>\n",
       "      <th>started_at</th>\n",
       "      <th>ended_at</th>\n",
       "      <th>start_station_name</th>\n",
       "      <th>start_station_id</th>\n",
       "      <th>end_station_name</th>\n",
       "      <th>end_station_id</th>\n",
       "      <th>start_lat</th>\n",
       "      <th>start_lng</th>\n",
       "      <th>end_lat</th>\n",
       "      <th>end_lng</th>\n",
       "      <th>member_casual</th>\n",
       "      <th>time</th>\n",
       "      <th>distance</th>\n",
       "      <th>year</th>\n",
       "      <th>month</th>\n",
       "      <th>hour</th>\n",
       "    </tr>\n",
       "  </thead>\n",
       "  <tbody>\n",
       "    <tr>\n",
       "      <th>0</th>\n",
       "      <td>A847FADBBC638E45</td>\n",
       "      <td>docked_bike</td>\n",
       "      <td>2020-04-26 17:45:14</td>\n",
       "      <td>2020-04-26 18:12:03</td>\n",
       "      <td>Eckhart Park</td>\n",
       "      <td>86</td>\n",
       "      <td>Lincoln Ave &amp; Diversey Pkwy</td>\n",
       "      <td>152</td>\n",
       "      <td>41.8964</td>\n",
       "      <td>-87.6610</td>\n",
       "      <td>41.9322</td>\n",
       "      <td>-87.6586</td>\n",
       "      <td>member</td>\n",
       "      <td>26.816667</td>\n",
       "      <td>2.473894</td>\n",
       "      <td>2020</td>\n",
       "      <td>4</td>\n",
       "      <td>17</td>\n",
       "    </tr>\n",
       "    <tr>\n",
       "      <th>1</th>\n",
       "      <td>5405B80E996FF60D</td>\n",
       "      <td>docked_bike</td>\n",
       "      <td>2020-04-17 17:08:54</td>\n",
       "      <td>2020-04-17 17:17:03</td>\n",
       "      <td>Drake Ave &amp; Fullerton Ave</td>\n",
       "      <td>503</td>\n",
       "      <td>Kosciuszko Park</td>\n",
       "      <td>499</td>\n",
       "      <td>41.9244</td>\n",
       "      <td>-87.7154</td>\n",
       "      <td>41.9306</td>\n",
       "      <td>-87.7238</td>\n",
       "      <td>member</td>\n",
       "      <td>8.150000</td>\n",
       "      <td>0.608713</td>\n",
       "      <td>2020</td>\n",
       "      <td>4</td>\n",
       "      <td>17</td>\n",
       "    </tr>\n",
       "    <tr>\n",
       "      <th>2</th>\n",
       "      <td>5DD24A79A4E006F4</td>\n",
       "      <td>docked_bike</td>\n",
       "      <td>2020-04-01 17:54:13</td>\n",
       "      <td>2020-04-01 18:08:36</td>\n",
       "      <td>McClurg Ct &amp; Erie St</td>\n",
       "      <td>142</td>\n",
       "      <td>Indiana Ave &amp; Roosevelt Rd</td>\n",
       "      <td>255</td>\n",
       "      <td>41.8945</td>\n",
       "      <td>-87.6179</td>\n",
       "      <td>41.8679</td>\n",
       "      <td>-87.6230</td>\n",
       "      <td>member</td>\n",
       "      <td>14.383333</td>\n",
       "      <td>1.854582</td>\n",
       "      <td>2020</td>\n",
       "      <td>4</td>\n",
       "      <td>17</td>\n",
       "    </tr>\n",
       "    <tr>\n",
       "      <th>3</th>\n",
       "      <td>2A59BBDF5CDBA725</td>\n",
       "      <td>docked_bike</td>\n",
       "      <td>2020-04-07 12:50:19</td>\n",
       "      <td>2020-04-07 13:02:31</td>\n",
       "      <td>California Ave &amp; Division St</td>\n",
       "      <td>216</td>\n",
       "      <td>Wood St &amp; Augusta Blvd</td>\n",
       "      <td>657</td>\n",
       "      <td>41.9030</td>\n",
       "      <td>-87.6975</td>\n",
       "      <td>41.8992</td>\n",
       "      <td>-87.6722</td>\n",
       "      <td>member</td>\n",
       "      <td>12.200000</td>\n",
       "      <td>1.330589</td>\n",
       "      <td>2020</td>\n",
       "      <td>4</td>\n",
       "      <td>12</td>\n",
       "    </tr>\n",
       "    <tr>\n",
       "      <th>4</th>\n",
       "      <td>27AD306C119C6158</td>\n",
       "      <td>docked_bike</td>\n",
       "      <td>2020-04-18 10:22:59</td>\n",
       "      <td>2020-04-18 11:15:54</td>\n",
       "      <td>Rush St &amp; Hubbard St</td>\n",
       "      <td>125</td>\n",
       "      <td>Sheridan Rd &amp; Lawrence Ave</td>\n",
       "      <td>323</td>\n",
       "      <td>41.8902</td>\n",
       "      <td>-87.6262</td>\n",
       "      <td>41.9695</td>\n",
       "      <td>-87.6547</td>\n",
       "      <td>casual</td>\n",
       "      <td>52.916667</td>\n",
       "      <td>5.666709</td>\n",
       "      <td>2020</td>\n",
       "      <td>4</td>\n",
       "      <td>10</td>\n",
       "    </tr>\n",
       "  </tbody>\n",
       "</table>\n",
       "</div>"
      ],
      "text/plain": [
       "            ride_id rideable_type          started_at            ended_at  \\\n",
       "0  A847FADBBC638E45   docked_bike 2020-04-26 17:45:14 2020-04-26 18:12:03   \n",
       "1  5405B80E996FF60D   docked_bike 2020-04-17 17:08:54 2020-04-17 17:17:03   \n",
       "2  5DD24A79A4E006F4   docked_bike 2020-04-01 17:54:13 2020-04-01 18:08:36   \n",
       "3  2A59BBDF5CDBA725   docked_bike 2020-04-07 12:50:19 2020-04-07 13:02:31   \n",
       "4  27AD306C119C6158   docked_bike 2020-04-18 10:22:59 2020-04-18 11:15:54   \n",
       "\n",
       "             start_station_name start_station_id             end_station_name  \\\n",
       "0                  Eckhart Park               86  Lincoln Ave & Diversey Pkwy   \n",
       "1     Drake Ave & Fullerton Ave              503              Kosciuszko Park   \n",
       "2          McClurg Ct & Erie St              142   Indiana Ave & Roosevelt Rd   \n",
       "3  California Ave & Division St              216       Wood St & Augusta Blvd   \n",
       "4          Rush St & Hubbard St              125   Sheridan Rd & Lawrence Ave   \n",
       "\n",
       "  end_station_id  start_lat  start_lng  end_lat  end_lng member_casual  \\\n",
       "0            152    41.8964   -87.6610  41.9322 -87.6586        member   \n",
       "1            499    41.9244   -87.7154  41.9306 -87.7238        member   \n",
       "2            255    41.8945   -87.6179  41.8679 -87.6230        member   \n",
       "3            657    41.9030   -87.6975  41.8992 -87.6722        member   \n",
       "4            323    41.8902   -87.6262  41.9695 -87.6547        casual   \n",
       "\n",
       "        time  distance  year month hour  \n",
       "0  26.816667  2.473894  2020     4   17  \n",
       "1   8.150000  0.608713  2020     4   17  \n",
       "2  14.383333  1.854582  2020     4   17  \n",
       "3  12.200000  1.330589  2020     4   12  \n",
       "4  52.916667  5.666709  2020     4   10  "
      ]
     },
     "execution_count": 92,
     "metadata": {},
     "output_type": "execute_result"
    }
   ],
   "source": [
    "data.head()"
   ]
  },
  {
   "cell_type": "markdown",
   "id": "42a750d6",
   "metadata": {},
   "source": [
    "### Further Cleaning"
   ]
  },
  {
   "cell_type": "code",
   "execution_count": 22,
   "id": "e8c89611",
   "metadata": {
    "scrolled": true
   },
   "outputs": [
    {
     "data": {
      "text/html": [
       "<div>\n",
       "<style scoped>\n",
       "    .dataframe tbody tr th:only-of-type {\n",
       "        vertical-align: middle;\n",
       "    }\n",
       "\n",
       "    .dataframe tbody tr th {\n",
       "        vertical-align: top;\n",
       "    }\n",
       "\n",
       "    .dataframe thead th {\n",
       "        text-align: right;\n",
       "    }\n",
       "</style>\n",
       "<table border=\"1\" class=\"dataframe\">\n",
       "  <thead>\n",
       "    <tr style=\"text-align: right;\">\n",
       "      <th></th>\n",
       "      <th>time</th>\n",
       "      <th>distance</th>\n",
       "    </tr>\n",
       "  </thead>\n",
       "  <tbody>\n",
       "    <tr>\n",
       "      <th>count</th>\n",
       "      <td>1.6032e+07</td>\n",
       "      <td>1.6032e+07</td>\n",
       "    </tr>\n",
       "    <tr>\n",
       "      <th>mean</th>\n",
       "      <td>19.347</td>\n",
       "      <td>1.34395</td>\n",
       "    </tr>\n",
       "    <tr>\n",
       "      <th>std</th>\n",
       "      <td>207.583</td>\n",
       "      <td>4.48047</td>\n",
       "    </tr>\n",
       "    <tr>\n",
       "      <th>min</th>\n",
       "      <td>-29050</td>\n",
       "      <td>0</td>\n",
       "    </tr>\n",
       "    <tr>\n",
       "      <th>25%</th>\n",
       "      <td>6.33333</td>\n",
       "      <td>0.541596</td>\n",
       "    </tr>\n",
       "    <tr>\n",
       "      <th>50%</th>\n",
       "      <td>11.4</td>\n",
       "      <td>0.999052</td>\n",
       "    </tr>\n",
       "    <tr>\n",
       "      <th>75%</th>\n",
       "      <td>20.95</td>\n",
       "      <td>1.77824</td>\n",
       "    </tr>\n",
       "    <tr>\n",
       "      <th>max</th>\n",
       "      <td>58720</td>\n",
       "      <td>6100.2</td>\n",
       "    </tr>\n",
       "  </tbody>\n",
       "</table>\n",
       "</div>"
      ],
      "text/plain": [
       "             time    distance\n",
       "count  1.6032e+07  1.6032e+07\n",
       "mean       19.347     1.34395\n",
       "std       207.583     4.48047\n",
       "min        -29050           0\n",
       "25%       6.33333    0.541596\n",
       "50%          11.4    0.999052\n",
       "75%         20.95     1.77824\n",
       "max         58720      6100.2"
      ]
     },
     "execution_count": 22,
     "metadata": {},
     "output_type": "execute_result"
    }
   ],
   "source": [
    "data[['time', 'distance']].describe().apply(lambda s: s.apply(lambda x: format(x, 'g')))"
   ]
  },
  {
   "cell_type": "markdown",
   "id": "b305255e",
   "metadata": {},
   "source": [
    "We can remove some outliers, particularly when time is negative or absurdly high. The maximum time is 58,720 minutes—that's over 40 days! Let's filter out the top and bottom percentage of the data in terms of time."
   ]
  },
  {
   "cell_type": "code",
   "execution_count": 93,
   "id": "933c560d",
   "metadata": {},
   "outputs": [
    {
     "data": {
      "text/html": [
       "<div>\n",
       "<style scoped>\n",
       "    .dataframe tbody tr th:only-of-type {\n",
       "        vertical-align: middle;\n",
       "    }\n",
       "\n",
       "    .dataframe tbody tr th {\n",
       "        vertical-align: top;\n",
       "    }\n",
       "\n",
       "    .dataframe thead th {\n",
       "        text-align: right;\n",
       "    }\n",
       "</style>\n",
       "<table border=\"1\" class=\"dataframe\">\n",
       "  <thead>\n",
       "    <tr style=\"text-align: right;\">\n",
       "      <th></th>\n",
       "      <th>time</th>\n",
       "      <th>distance</th>\n",
       "    </tr>\n",
       "  </thead>\n",
       "  <tbody>\n",
       "    <tr>\n",
       "      <th>count</th>\n",
       "      <td>1.57164e+07</td>\n",
       "      <td>1.57164e+07</td>\n",
       "    </tr>\n",
       "    <tr>\n",
       "      <th>mean</th>\n",
       "      <td>16.6744</td>\n",
       "      <td>1.35589</td>\n",
       "    </tr>\n",
       "    <tr>\n",
       "      <th>std</th>\n",
       "      <td>16.6612</td>\n",
       "      <td>4.24871</td>\n",
       "    </tr>\n",
       "    <tr>\n",
       "      <th>min</th>\n",
       "      <td>0.333333</td>\n",
       "      <td>0</td>\n",
       "    </tr>\n",
       "    <tr>\n",
       "      <th>25%</th>\n",
       "      <td>6.41667</td>\n",
       "      <td>0.559411</td>\n",
       "    </tr>\n",
       "    <tr>\n",
       "      <th>50%</th>\n",
       "      <td>11.4</td>\n",
       "      <td>1.01176</td>\n",
       "    </tr>\n",
       "    <tr>\n",
       "      <th>75%</th>\n",
       "      <td>20.65</td>\n",
       "      <td>1.7881</td>\n",
       "    </tr>\n",
       "    <tr>\n",
       "      <th>max</th>\n",
       "      <td>124.117</td>\n",
       "      <td>6100.2</td>\n",
       "    </tr>\n",
       "  </tbody>\n",
       "</table>\n",
       "</div>"
      ],
      "text/plain": [
       "              time     distance\n",
       "count  1.57164e+07  1.57164e+07\n",
       "mean       16.6744      1.35589\n",
       "std        16.6612      4.24871\n",
       "min       0.333333            0\n",
       "25%        6.41667     0.559411\n",
       "50%           11.4      1.01176\n",
       "75%          20.65       1.7881\n",
       "max        124.117       6100.2"
      ]
     },
     "execution_count": 93,
     "metadata": {},
     "output_type": "execute_result"
    }
   ],
   "source": [
    "lower = np.percentile(data['time'], 1)\n",
    "upper = np.percentile(data['time'], 99)\n",
    "cleaned = data[data.time.between(lower, upper)]\n",
    "cleaned[['time', 'distance']].describe().apply(lambda s: s.apply(lambda x: format(x, 'g')))"
   ]
  },
  {
   "cell_type": "markdown",
   "id": "9be451e9",
   "metadata": {},
   "source": [
    "Looks much better. However, the maximum distance of 6,100 miles is also a bit fishy, especially considering the maximum time is now just over 2 hours. That's nearly 3,000mph, more than five times faster than a commercial plane. Impressive, but probably not realistic. Chicago is about 25 miles at its greatest extent, so let's also filter out data points where the distances exceed 25 miles."
   ]
  },
  {
   "cell_type": "code",
   "execution_count": 94,
   "id": "926ebf7f",
   "metadata": {
    "scrolled": false
   },
   "outputs": [
    {
     "data": {
      "text/html": [
       "<div>\n",
       "<style scoped>\n",
       "    .dataframe tbody tr th:only-of-type {\n",
       "        vertical-align: middle;\n",
       "    }\n",
       "\n",
       "    .dataframe tbody tr th {\n",
       "        vertical-align: top;\n",
       "    }\n",
       "\n",
       "    .dataframe thead th {\n",
       "        text-align: right;\n",
       "    }\n",
       "</style>\n",
       "<table border=\"1\" class=\"dataframe\">\n",
       "  <thead>\n",
       "    <tr style=\"text-align: right;\">\n",
       "      <th></th>\n",
       "      <th>time</th>\n",
       "      <th>distance</th>\n",
       "    </tr>\n",
       "  </thead>\n",
       "  <tbody>\n",
       "    <tr>\n",
       "      <th>count</th>\n",
       "      <td>1.57163e+07</td>\n",
       "      <td>1.57163e+07</td>\n",
       "    </tr>\n",
       "    <tr>\n",
       "      <th>mean</th>\n",
       "      <td>16.6744</td>\n",
       "      <td>1.35313</td>\n",
       "    </tr>\n",
       "    <tr>\n",
       "      <th>std</th>\n",
       "      <td>16.6612</td>\n",
       "      <td>1.20589</td>\n",
       "    </tr>\n",
       "    <tr>\n",
       "      <th>min</th>\n",
       "      <td>0.333333</td>\n",
       "      <td>0</td>\n",
       "    </tr>\n",
       "    <tr>\n",
       "      <th>25%</th>\n",
       "      <td>6.41667</td>\n",
       "      <td>0.559411</td>\n",
       "    </tr>\n",
       "    <tr>\n",
       "      <th>50%</th>\n",
       "      <td>11.4</td>\n",
       "      <td>1.01176</td>\n",
       "    </tr>\n",
       "    <tr>\n",
       "      <th>75%</th>\n",
       "      <td>20.65</td>\n",
       "      <td>1.7881</td>\n",
       "    </tr>\n",
       "    <tr>\n",
       "      <th>max</th>\n",
       "      <td>124.117</td>\n",
       "      <td>19.8114</td>\n",
       "    </tr>\n",
       "  </tbody>\n",
       "</table>\n",
       "</div>"
      ],
      "text/plain": [
       "              time     distance\n",
       "count  1.57163e+07  1.57163e+07\n",
       "mean       16.6744      1.35313\n",
       "std        16.6612      1.20589\n",
       "min       0.333333            0\n",
       "25%        6.41667     0.559411\n",
       "50%           11.4      1.01176\n",
       "75%          20.65       1.7881\n",
       "max        124.117      19.8114"
      ]
     },
     "execution_count": 94,
     "metadata": {},
     "output_type": "execute_result"
    }
   ],
   "source": [
    "cleaned2 = cleaned[cleaned.distance < 25]\n",
    "cleaned2[['time', 'distance']].describe().apply(lambda s: s.apply(lambda x: format(x, 'g')))"
   ]
  },
  {
   "cell_type": "code",
   "execution_count": 62,
   "id": "2ecfe850",
   "metadata": {},
   "outputs": [
    {
     "data": {
      "text/plain": [
       "<Axes: xlabel='distance', ylabel='Density'>"
      ]
     },
     "execution_count": 62,
     "metadata": {},
     "output_type": "execute_result"
    },
    {
     "data": {
      "image/png": "[encoded data removed]",
      "text/plain": [
       "<Figure size 1000x500 with 2 Axes>"
      ]
     },
     "metadata": {},
     "output_type": "display_data"
    }
   ],
   "source": [
    "fig, axes = plt.subplots(1, 2, figsize=(10, 5))\n",
    "sns.kdeplot(data=cleaned2, x='time', ax=axes[0])\n",
    "sns.kdeplot(data=cleaned2, x='distance', ax=axes[1])"
   ]
  },
  {
   "cell_type": "markdown",
   "id": "67cefd60",
   "metadata": {},
   "source": [
    "# Analysis"
   ]
  },
  {
   "cell_type": "markdown",
   "id": "90439e0b",
   "metadata": {},
   "source": [
    "I will perform the following analyses:\n",
    "\n",
    "<u> Casual vs member analysis </u>\n",
    "1. Usage time\n",
    "    - Average time\n",
    "2. Usage (by hour of day)\n",
    "3. Usage (by month of year)\n",
    "4. Distance rode\n",
    "    - Average distance\n",
    "5. Popular stations (starting and ending)\n",
    "6. Bike type\n",
    "7. Trip count\n",
    "\n",
    "<u> Inter-year comparisons (zoom in on 2021 vs 2022) </u>\n",
    "1. Usage time\n",
    "    - Casual vs member\n",
    "    - Bike type\n",
    "2. Popular stations\n",
    "3. Distance rode\n",
    "    - Casual vs member\n",
    "    - Bike type\n",
    "4. Trip count\n",
    "\n",
    "<u> Inter-station comparisons </u>\n",
    "1. Casual vs member\n",
    "2. Peak hours\n",
    "3. Peak months\n",
    "4. Trip count\n",
    "\n",
    "Much of the analyses will be concentrated on the time rather than the distance as the distance travelled can be somewhat misleading. It is possible that riders pick up and dock at the same station, and the distance travelled metric does not capture this behaviour accurately. Also for this reason, I did not impose a lower bound on distance rode when cleaning the dataset in the previous section."
   ]
  },
  {
   "cell_type": "markdown",
   "id": "050341b3",
   "metadata": {},
   "source": [
    "#### Casual vs member analysis"
   ]
  },
  {
   "cell_type": "code",
   "execution_count": 65,
   "id": "61d35f13",
   "metadata": {},
   "outputs": [
    {
     "data": {
      "text/html": [
       "<div>\n",
       "<style scoped>\n",
       "    .dataframe tbody tr th:only-of-type {\n",
       "        vertical-align: middle;\n",
       "    }\n",
       "\n",
       "    .dataframe tbody tr th {\n",
       "        vertical-align: top;\n",
       "    }\n",
       "\n",
       "    .dataframe thead th {\n",
       "        text-align: right;\n",
       "    }\n",
       "</style>\n",
       "<table border=\"1\" class=\"dataframe\">\n",
       "  <thead>\n",
       "    <tr style=\"text-align: right;\">\n",
       "      <th></th>\n",
       "      <th>count</th>\n",
       "      <th>mean</th>\n",
       "      <th>std</th>\n",
       "      <th>min</th>\n",
       "      <th>25%</th>\n",
       "      <th>50%</th>\n",
       "      <th>75%</th>\n",
       "      <th>max</th>\n",
       "    </tr>\n",
       "    <tr>\n",
       "      <th>member_casual</th>\n",
       "      <th></th>\n",
       "      <th></th>\n",
       "      <th></th>\n",
       "      <th></th>\n",
       "      <th></th>\n",
       "      <th></th>\n",
       "      <th></th>\n",
       "      <th></th>\n",
       "    </tr>\n",
       "  </thead>\n",
       "  <tbody>\n",
       "    <tr>\n",
       "      <th>casual</th>\n",
       "      <td>6.48409e+06</td>\n",
       "      <td>22.1773</td>\n",
       "      <td>21.1826</td>\n",
       "      <td>0.333333</td>\n",
       "      <td>8.46667</td>\n",
       "      <td>15.0333</td>\n",
       "      <td>27.55</td>\n",
       "      <td>124.117</td>\n",
       "    </tr>\n",
       "    <tr>\n",
       "      <th>member</th>\n",
       "      <td>9.23225e+06</td>\n",
       "      <td>12.8095</td>\n",
       "      <td>11.01</td>\n",
       "      <td>0.333333</td>\n",
       "      <td>5.51667</td>\n",
       "      <td>9.51667</td>\n",
       "      <td>16.5333</td>\n",
       "      <td>124.117</td>\n",
       "    </tr>\n",
       "  </tbody>\n",
       "</table>\n",
       "</div>"
      ],
      "text/plain": [
       "                     count     mean      std       min      25%      50%  \\\n",
       "member_casual                                                              \n",
       "casual         6.48409e+06  22.1773  21.1826  0.333333  8.46667  15.0333   \n",
       "member         9.23225e+06  12.8095    11.01  0.333333  5.51667  9.51667   \n",
       "\n",
       "                   75%      max  \n",
       "member_casual                    \n",
       "casual           27.55  124.117  \n",
       "member         16.5333  124.117  "
      ]
     },
     "execution_count": 65,
     "metadata": {},
     "output_type": "execute_result"
    }
   ],
   "source": [
    "cleaned2.groupby('member_casual')['time'].describe().apply(lambda s: s.apply(lambda x: format(x, 'g')))"
   ]
  },
  {
   "cell_type": "code",
   "execution_count": 66,
   "id": "14a9e7d1",
   "metadata": {},
   "outputs": [
    {
     "data": {
      "text/html": [
       "<div>\n",
       "<style scoped>\n",
       "    .dataframe tbody tr th:only-of-type {\n",
       "        vertical-align: middle;\n",
       "    }\n",
       "\n",
       "    .dataframe tbody tr th {\n",
       "        vertical-align: top;\n",
       "    }\n",
       "\n",
       "    .dataframe thead th {\n",
       "        text-align: right;\n",
       "    }\n",
       "</style>\n",
       "<table border=\"1\" class=\"dataframe\">\n",
       "  <thead>\n",
       "    <tr style=\"text-align: right;\">\n",
       "      <th></th>\n",
       "      <th>count</th>\n",
       "      <th>mean</th>\n",
       "      <th>std</th>\n",
       "      <th>min</th>\n",
       "      <th>25%</th>\n",
       "      <th>50%</th>\n",
       "      <th>75%</th>\n",
       "      <th>max</th>\n",
       "    </tr>\n",
       "    <tr>\n",
       "      <th>member_casual</th>\n",
       "      <th></th>\n",
       "      <th></th>\n",
       "      <th></th>\n",
       "      <th></th>\n",
       "      <th></th>\n",
       "      <th></th>\n",
       "      <th></th>\n",
       "      <th></th>\n",
       "    </tr>\n",
       "  </thead>\n",
       "  <tbody>\n",
       "    <tr>\n",
       "      <th>casual</th>\n",
       "      <td>6.48409e+06</td>\n",
       "      <td>1.37743</td>\n",
       "      <td>1.24927</td>\n",
       "      <td>0</td>\n",
       "      <td>0.570009</td>\n",
       "      <td>1.05473</td>\n",
       "      <td>1.83324</td>\n",
       "      <td>19.8114</td>\n",
       "    </tr>\n",
       "    <tr>\n",
       "      <th>member</th>\n",
       "      <td>9.23225e+06</td>\n",
       "      <td>1.33605</td>\n",
       "      <td>1.17416</td>\n",
       "      <td>0</td>\n",
       "      <td>0.55423</td>\n",
       "      <td>0.978693</td>\n",
       "      <td>1.75399</td>\n",
       "      <td>19.5928</td>\n",
       "    </tr>\n",
       "  </tbody>\n",
       "</table>\n",
       "</div>"
      ],
      "text/plain": [
       "                     count     mean      std min       25%       50%      75%  \\\n",
       "member_casual                                                                   \n",
       "casual         6.48409e+06  1.37743  1.24927   0  0.570009   1.05473  1.83324   \n",
       "member         9.23225e+06  1.33605  1.17416   0   0.55423  0.978693  1.75399   \n",
       "\n",
       "                   max  \n",
       "member_casual           \n",
       "casual         19.8114  \n",
       "member         19.5928  "
      ]
     },
     "execution_count": 66,
     "metadata": {},
     "output_type": "execute_result"
    }
   ],
   "source": [
    "cleaned2.groupby('member_casual')['distance'].describe().apply(lambda s: s.apply(lambda x: format(x, 'g')))"
   ]
  },
  {
   "cell_type": "code",
   "execution_count": 89,
   "id": "d3ae0dd3",
   "metadata": {
    "scrolled": false
   },
   "outputs": [
    {
     "data": {
      "text/plain": [
       "<Axes: xlabel='time', ylabel='Density'>"
      ]
     },
     "execution_count": 89,
     "metadata": {},
     "output_type": "execute_result"
    },
    {
     "data": {
      "image/png": "[encoded data removed]",
      "text/plain": [
       "<Figure size 640x480 with 1 Axes>"
      ]
     },
     "metadata": {},
     "output_type": "display_data"
    }
   ],
   "source": [
    "sns.kdeplot(data=cleaned2, x='time', hue='member_casual')"
   ]
  },
  {
   "cell_type": "markdown",
   "id": "52ce079a",
   "metadata": {},
   "source": [
    "On average, casual riders ride for 10 minutes longer than members, averaging 22 minutes a ride compared to the members' average of 12 minutes. This is apparent in the plot as well, with casual members taking a greater proportion of rides over 20 minutes."
   ]
  },
  {
   "cell_type": "code",
   "execution_count": 100,
   "id": "75526af3",
   "metadata": {},
   "outputs": [
    {
     "data": {
      "text/plain": [
       "<Axes: xlabel='count', ylabel='month'>"
      ]
     },
     "execution_count": 100,
     "metadata": {},
     "output_type": "execute_result"
    },
    {
     "data": {
      "image/png": "[encoded data removed]",
      "text/plain": [
       "<Figure size 1000x500 with 2 Axes>"
      ]
     },
     "metadata": {},
     "output_type": "display_data"
    }
   ],
   "source": [
    "fig, axes = plt.subplots(1, 2, figsize=(10, 5))\n",
    "sns.countplot(data=cleaned2, y='hour', hue='member_casual', ax=axes[0])\n",
    "sns.countplot(data=cleaned2, y='month', hue='member_casual', ax=axes[1])"
   ]
  }
 ],
 "metadata": {
  "kernelspec": {
   "display_name": "Python 3 (ipykernel)",
   "language": "python",
   "name": "python3"
  },
  "language_info": {
   "codemirror_mode": {
    "name": "ipython",
    "version": 3
   },
   "file_extension": ".py",
   "mimetype": "text/x-python",
   "name": "python",
   "nbconvert_exporter": "python",
   "pygments_lexer": "ipython3",
   "version": "3.11.2"
  }
 },
 "nbformat": 4,
 "nbformat_minor": 5
}
