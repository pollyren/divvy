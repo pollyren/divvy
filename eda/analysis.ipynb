{
 "cells": [
  {
   "cell_type": "markdown",
   "id": "fd161beb",
   "metadata": {},
   "source": [
    "# Divvy Exploratory Data Analysis"
   ]
  },
  {
   "cell_type": "markdown",
   "id": "c96d9160",
   "metadata": {},
   "source": [
    "Exploratory data analysis for Divvy bikesharing data from April 2020 to May 2023."
   ]
  },
  {
   "cell_type": "markdown",
   "id": "7e5eb6e1",
   "metadata": {},
   "source": [
    "### Preliminaries"
   ]
  },
  {
   "cell_type": "code",
   "execution_count": 1,
   "id": "46f3751d",
   "metadata": {},
   "outputs": [],
   "source": [
    "import pandas as pd\n",
    "import os\n",
    "from datetime import datetime\n",
    "import seaborn as sns\n",
    "import numpy as np\n",
    "from matplotlib import pyplot as plt\n",
    "import plotly.express as px"
   ]
  },
  {
   "cell_type": "code",
   "execution_count": 2,
   "id": "efabd472",
   "metadata": {},
   "outputs": [],
   "source": [
    "colours = ['#D5573B','#074F57','#077187','#9ECE9A','#D7CEB2']\n",
    "sns.set_palette(colours)"
   ]
  },
  {
   "cell_type": "code",
   "execution_count": 3,
   "id": "72aa4a89",
   "metadata": {},
   "outputs": [],
   "source": [
    "dtypes = {\n",
    "    'ride_id': str,\n",
    "    'rideable_type': str,\n",
    "    'started_at': str,\n",
    "    'ended_at': str,\n",
    "    'start_station_name': str,\n",
    "    'start_station_id': str,\n",
    "    'end_station_name': str,\n",
    "    'end_station_id': str,\n",
    "    'start_lat': float,\n",
    "    'start_lng': float,\n",
    "    'end_lat': float,\n",
    "    'end_lng': float,\n",
    "    'member_casual': str,\n",
    "    'time': float,\n",
    "    'distance': float,\n",
    "}"
   ]
  },
  {
   "cell_type": "code",
   "execution_count": 4,
   "id": "8ed92f7a",
   "metadata": {},
   "outputs": [],
   "source": [
    "data_path = os.getcwd() + '/../data/data_dist_time.csv'\n",
    "data = pd.read_csv(data_path, dtype=dtypes, index_col=0)"
   ]
  },
  {
   "cell_type": "code",
   "execution_count": 5,
   "id": "daf4f875",
   "metadata": {},
   "outputs": [],
   "source": [
    "data['started_at'] = pd.to_datetime(data['started_at'])\n",
    "data['ended_at'] = pd.to_datetime(data['ended_at'])\n",
    "data['time'] = data['time'].div(60)"
   ]
  },
  {
   "cell_type": "code",
   "execution_count": 6,
   "id": "b10b192f",
   "metadata": {
    "scrolled": true
   },
   "outputs": [],
   "source": [
    "data.info()"
   ]
  },
  {
   "cell_type": "code",
   "execution_count": 7,
   "id": "41b2e699",
   "metadata": {},
   "outputs": [],
   "source": [
    "data['year'] = data['started_at'].dt.year\n",
    "data['month'] = data['started_at'].dt.month\n",
    "data['hour'] = data['started_at'].dt.hour\n",
    "\n",
    "data.year = data.year.astype('category')\n",
    "data.month = data.month.astype('category')\n",
    "data.hour = data.hour.astype('category')"
   ]
  },
  {
   "cell_type": "code",
   "execution_count": 8,
   "id": "275f0260",
   "metadata": {},
   "outputs": [],
   "source": [
    "data.head()"
   ]
  },
  {
   "cell_type": "markdown",
   "id": "b1ddbc2d",
   "metadata": {},
   "source": [
    "### Further Cleaning"
   ]
  },
  {
   "cell_type": "code",
   "execution_count": 9,
   "id": "c21c64c1",
   "metadata": {
    "scrolled": true
   },
   "outputs": [],
   "source": [
    "data[['time', 'distance']].describe().apply(lambda s: s.apply(lambda x: format(x, 'g')))"
   ]
  },
  {
   "cell_type": "markdown",
   "id": "6d1411b1",
   "metadata": {},
   "source": [
    "We can remove some outliers, particularly when time is negative or absurdly high. The maximum time is 58,720 minutes—that's over 40 days! Let's filter out the top and bottom percentage of the data in terms of time."
   ]
  },
  {
   "cell_type": "code",
   "execution_count": 10,
   "id": "07f19239",
   "metadata": {},
   "outputs": [],
   "source": [
    "lower = np.percentile(data['time'], 1)\n",
    "upper = np.percentile(data['time'], 99)\n",
    "cleaned = data[data.time.between(lower, upper)]\n",
    "cleaned[['time', 'distance']].describe().apply(lambda s: s.apply(lambda x: format(x, 'g')))"
   ]
  },
  {
   "cell_type": "markdown",
   "id": "d31ff20e",
   "metadata": {},
   "source": [
    "Looks much better. However, the maximum distance of 6,100 miles is also a bit fishy, especially considering the maximum time is now just over 2 hours. That's nearly 3,000mph, more than five times faster than a commercial plane. Impressive, but probably not realistic. Chicago is about 25 miles at its greatest extent, so let's also filter out data points where the distances exceed 25 miles."
   ]
  },
  {
   "cell_type": "code",
   "execution_count": 11,
   "id": "e3ad2d77",
   "metadata": {
    "scrolled": true
   },
   "outputs": [],
   "source": [
    "cleaned = cleaned[cleaned.distance < 25]\n",
    "cleaned[['time', 'distance']].describe().apply(lambda s: s.apply(lambda x: format(x, 'g')))"
   ]
  },
  {
   "cell_type": "code",
   "execution_count": 12,
   "id": "955df419",
   "metadata": {},
   "outputs": [],
   "source": [
    "cleaned2 = cleaned.replace({'docked_bike': 'classic_bike'}, regex=True)"
   ]
  },
  {
   "cell_type": "code",
   "execution_count": 13,
   "id": "700e3526",
   "metadata": {},
   "outputs": [],
   "source": [
    "fig, axes = plt.subplots(1, 2, figsize=(10, 5))\n",
    "sns.kdeplot(data=cleaned2, x='time', ax=axes[0])\n",
    "sns.kdeplot(data=cleaned2, x='distance', ax=axes[1])"
   ]
  },
  {
   "cell_type": "markdown",
   "id": "67cefd60",
   "metadata": {},
   "source": [
    "# Analysis"
   ]
  },
  {
   "cell_type": "markdown",
   "id": "90439e0b",
   "metadata": {},
   "source": [
    "I will perform the following analyses:\n",
    "\n",
    "<u> Casual vs member analysis </u>\n",
    "1. Usage time\n",
    "    - Average time\n",
    "2. Usage (by hour of day)\n",
    "3. Usage (by month of year)\n",
    "4. Distance rode\n",
    "    - Average distance\n",
    "5. Popular stations (starting and ending)\n",
    "6. Bike type\n",
    "7. Trip count\n",
    "\n",
    "<u> Inter-year analysis (zoom in on 2021 vs 2022 quarters) </u>\n",
    "1. Usage time\n",
    "    - Casual vs member\n",
    "    - Bike type\n",
    "2. Popular stations\n",
    "3. Distance rode\n",
    "    - Casual vs member\n",
    "    - Bike type\n",
    "4. Trip count\n",
    "\n",
    "<u> Inter-station analysis </u>\n",
    "1. Casual vs member\n",
    "2. Peak hours\n",
    "3. Peak months\n",
    "4. Trip count\n",
    "\n",
    "Much of the analyses will be concentrated on the time rather than the distance as the distance travelled can be somewhat misleading. It is possible that riders pick up and dock at the same station, and the distance travelled metric does not capture this behaviour accurately. Also for this reason, I did not impose a lower bound on distance rode when cleaning the dataset in the previous section."
   ]
  },
  {
   "cell_type": "markdown",
   "id": "bd9ef75d",
   "metadata": {},
   "source": [
    "#### Casual vs member analysis"
   ]
  },
  {
   "cell_type": "code",
   "execution_count": 14,
   "id": "8d50877f",
   "metadata": {
    "scrolled": false
   },
   "outputs": [],
   "source": [
    "sns.countplot(data=cleaned2, y='year', hue='member_casual')"
   ]
  },
  {
   "cell_type": "markdown",
   "id": "6d1b3211",
   "metadata": {},
   "source": [
    "Throughout the past three years, there have been more member rides than casual rides, which is largely unsurprising."
   ]
  },
  {
   "cell_type": "code",
   "execution_count": 15,
   "id": "7b606a6d",
   "metadata": {},
   "outputs": [],
   "source": [
    "cleaned2.groupby('member_casual')['time'].describe().apply(lambda s: s.apply(lambda x: format(x, 'g')))"
   ]
  },
  {
   "cell_type": "code",
   "execution_count": 16,
   "id": "cc077b9a",
   "metadata": {},
   "outputs": [],
   "source": [
    "cleaned2.groupby('member_casual')['distance'].describe().apply(lambda s: s.apply(lambda x: format(x, 'g')))"
   ]
  },
  {
   "cell_type": "code",
   "execution_count": 17,
   "id": "d237bdd6",
   "metadata": {
    "scrolled": false
   },
   "outputs": [],
   "source": [
    "sns.kdeplot(data=cleaned2, x='time', hue='member_casual', fill=True)"
   ]
  },
  {
   "cell_type": "markdown",
   "id": "6825609b",
   "metadata": {},
   "source": [
    "On average, casual riders ride for 10 minutes longer than members, averaging 22 minutes a ride compared to the members' average of 12 minutes. This is apparent in the plot as well, with casual members taking a greater proportion of rides over 20 minutes. However, we can observe that this increased time is not a result of riding further as the distance rode by member and casual riders differ by a mere 4/100ths of a mile.\n",
    "\n",
    "Let's look at the times of day and times of the year where member and casual riders take their rides:"
   ]
  },
  {
   "cell_type": "code",
   "execution_count": 18,
   "id": "da179b9b",
   "metadata": {
    "scrolled": true
   },
   "outputs": [],
   "source": [
    "fig, axes = plt.subplots(1, 2, figsize=(10, 5))\n",
    "sns.countplot(data=cleaned2[cleaned2['year'].isin([2021, 2022])], y='hour', hue='member_casual', ax=axes[0])\n",
    "sns.countplot(data=cleaned2, y='month', hue='member_casual', ax=axes[1])"
   ]
  },
  {
   "cell_type": "markdown",
   "id": "5be2bda7",
   "metadata": {},
   "source": [
    "Casual riders tend to be more active in the early hours of the morning and the late hours of the evening. During more typical waking hours (4am-9pm), a greater proportion of the rides are from member riders. And because member riders make up a larger proportion of the rides, it is unsurprising that member rides outnumber casual rides for most months of the year. However, it is interesting to note that in July, casual rides exceed member rides. This is likely because, as the weather becomes warmer in the summer months, nonmembers are more inclined to bike around the city for transit, touring, and leisure.\n",
    "\n",
    "Let's also compare the differences between stations for casual and member riders:"
   ]
  },
  {
   "cell_type": "code",
   "execution_count": 19,
   "id": "ca198965",
   "metadata": {
    "scrolled": false
   },
   "outputs": [],
   "source": [
    "member_starting_count = cleaned2[cleaned2['member_casual']=='member']['start_station_name'].value_counts()\n",
    "member_starting_count.sort_values(ascending=False)"
   ]
  },
  {
   "cell_type": "code",
   "execution_count": 20,
   "id": "0a4dcf00",
   "metadata": {
    "scrolled": false
   },
   "outputs": [],
   "source": [
    "casual_starting_count = cleaned2[cleaned2['member_casual']=='casual']['start_station_name'].value_counts()\n",
    "casual_starting_count.sort_values(ascending=False)"
   ]
  },
  {
   "cell_type": "code",
   "execution_count": 21,
   "id": "e686d2dc",
   "metadata": {
    "scrolled": false
   },
   "outputs": [],
   "source": [
    "station_counts = cleaned2['start_station_name'].value_counts()\n",
    "top_10_stations = cleaned2[cleaned2['start_station_name'].isin(station_counts.head(10).index)]\n",
    "sns.countplot(data=top_10_stations, y='start_station_name', hue='member_casual')"
   ]
  },
  {
   "cell_type": "code",
   "execution_count": 22,
   "id": "95651087",
   "metadata": {},
   "outputs": [],
   "source": [
    "station_coords = cleaned2.drop_duplicates(subset=['start_station_name'], keep='first') [['start_station_name','start_lat','start_lng']].set_index('start_station_name')\n",
    "station_coords.head()"
   ]
  },
  {
   "cell_type": "code",
   "execution_count": 23,
   "id": "f30dfe79",
   "metadata": {},
   "outputs": [],
   "source": [
    "member_starting_count = member_starting_count.to_frame().join(station_coords)\n",
    "casual_starting_count = casual_starting_count.to_frame().join(station_coords)"
   ]
  },
  {
   "cell_type": "code",
   "execution_count": 24,
   "id": "15fa7a2a",
   "metadata": {},
   "outputs": [],
   "source": [
    "# px.scatter_geo(member_starting_count, lat='start_lat', lon='start_lng', hover_name=member_starting_count.index, size='count',title='member starting stations')"
   ]
  },
  {
   "cell_type": "markdown",
   "id": "85982f85",
   "metadata": {},
   "source": [
    "Most casual riders begin their rides at stations near lakeside tourist attractions, whereas member riders typically begin their rides in the city. For instance, Streeter Dr & Grand Ave (nearby Navy Pier), Millennium Park (nearby well, Millennium Park), and Michigan Ave & Oak St (nearby the Oak Street Beach) are the most-visited start stations for casual riders. On the other hand, the top four most-visited stations for member riders are in the Near North Side, closer to commercial districts than tourist attractions.\n",
    "\n",
    "Let's do the same for end stations:"
   ]
  },
  {
   "cell_type": "code",
   "execution_count": 25,
   "id": "127ef6b4",
   "metadata": {},
   "outputs": [],
   "source": [
    "station_counts = cleaned2['end_station_name'].value_counts()\n",
    "top_10_stations = cleaned2[cleaned2['end_station_name'].isin(station_counts.head(10).index)]\n",
    "sns.countplot(data=top_10_stations, y='end_station_name', hue='member_casual')"
   ]
  },
  {
   "cell_type": "markdown",
   "id": "6343ea39",
   "metadata": {},
   "source": [
    "The results seem to be more or less similar to the starting station data. However, note that this station analysis may exclude some data from electric bikes, as electric bikes need not be started or ended at an actual dock. Let's look at the data between casual and member riders in terms of only electric bikes:"
   ]
  },
  {
   "cell_type": "code",
   "execution_count": 26,
   "id": "1f92183f",
   "metadata": {
    "scrolled": false
   },
   "outputs": [],
   "source": [
    "fig, axes = plt.subplots(1, 4, figsize=(12, 4), sharey=True)\n",
    "\n",
    "member_casual_palette = {'member': '#D5573B', 'casual': '#074F57'}\n",
    "base_year = 2020\n",
    "for i in range(4):\n",
    "    sns.countplot(data=cleaned2[cleaned2['year']==base_year+i].sort_values('member_casual', ascending=False), x='rideable_type', hue='member_casual', palette=member_casual_palette, order=['classic_bike','electric_bike'], ax=axes[i])\n",
    "    axes[i].set_title(str(base_year+i))\n",
    "    # axes[i].tick_params(axis='x', labelrotation=45)\n",
    "    axes[i].set_xlabel('')\n",
    "    axes[i].set_ylabel('')\n",
    "    axes[i].legend_.remove()\n",
    "\n",
    "fig.text(0.5, -0.02, 'rideable_type', ha='center', fontsize=12)\n",
    "fig.text(-0.02, 0.5, 'count', va='center', rotation='vertical', fontsize=12)\n",
    "handles, labels = axes[0].get_legend_handles_labels()\n",
    "fig.legend(handles, labels, loc='upper right', bbox_to_anchor=(0.983, 0.9))\n",
    "fig.tight_layout()"
   ]
  },
  {
   "cell_type": "markdown",
   "id": "0e114420",
   "metadata": {},
   "source": [
    "There are some noteworthy trends to observe, particularly in relation to the proportion of classic bike usages to electric bike usages. There is a large shift from classic to electric bikes between 2021 and 2022 for both member and casual riders. In fact, there were more e-bike rides than classic bike rides from casual users in 2022. With the 2023 data up until May, this shift toward e-bike usage also appears to persist, with even member riders more frequently using electric bikes than classic bikes. Electric bikes were first introduced to the fleet at the end of July 2020, so it is interesting to observe its changes in popularity over the years. I will further examine this trend in the Inter-year analysis below."
   ]
  },
  {
   "cell_type": "markdown",
   "id": "55198d43",
   "metadata": {},
   "source": [
    "#### Inter-year analysis"
   ]
  },
  {
   "cell_type": "markdown",
   "id": "dd13445e",
   "metadata": {},
   "source": [
    "Divvy announced a change in its pricing structure in May 2022. Most notably, electric bikes, which were once free of charge to members for 45 minutes within certain zones, have become only free to unlock and cost 15 cents for each subsequent minute. Additionally, a $1 fee is assessed for docking the e-bike outside of a station. With these changes, it would be interesting to observe changes in members' behaviours, which we will do in this section."
   ]
  },
  {
   "cell_type": "code",
   "execution_count": 28,
   "id": "0c3fad04",
   "metadata": {},
   "outputs": [],
   "source": [
    "fig, axes = plt.subplots(1, 2, figsize=(10, 5))\n",
    "sns.countplot(data=cleaned2[cleaned2['year']==2021], y='month', hue='member_casual', ax=axes[0])\n",
    "sns.countplot(data=cleaned2[cleaned2['year']==2022], y='month', hue='member_casual', ax=axes[1])\n",
    "axes[0].set_title('2021')\n",
    "axes[1].set_title('2022')"
   ]
  }
 ],
 "metadata": {
  "kernelspec": {
   "display_name": "Python 3 (ipykernel)",
   "language": "python",
   "name": "python3"
  },
  "language_info": {
   "codemirror_mode": {
    "name": "ipython",
    "version": 3
   },
   "file_extension": ".py",
   "mimetype": "text/x-python",
   "name": "python",
   "nbconvert_exporter": "python",
   "pygments_lexer": "ipython3",
   "version": "3.11.2"
  }
 },
 "nbformat": 4,
 "nbformat_minor": 5
}
