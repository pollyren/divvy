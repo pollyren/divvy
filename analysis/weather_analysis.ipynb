{
 "cells": [
  {
   "cell_type": "markdown",
   "id": "0d56f465",
   "metadata": {},
   "source": [
    "# Analysis of Divvy Usage and Chicago Weather"
   ]
  },
  {
   "cell_type": "markdown",
   "id": "bb8c7de1",
   "metadata": {},
   "source": [
    "Joint analysis of Divvy bikesharing data and Chicago weather from April 2020 to May 2023. [View this notebook on NBViewer](https://nbviewer.org/github/pollyren/divvy/blob/main/analysis/weather_analysis.ipynb) to see the proper map renderings."
   ]
  },
  {
   "cell_type": "markdown",
   "id": "44206da0",
   "metadata": {},
   "source": [
    "### Preliminaries"
   ]
  },
  {
   "cell_type": "code",
   "execution_count": 2,
   "id": "ab40ac63",
   "metadata": {},
   "outputs": [],
   "source": [
    "import pandas as pd\n",
    "import os\n",
    "from datetime import datetime\n",
    "import seaborn as sns\n",
    "import numpy as np\n",
    "from matplotlib import pyplot as plt"
   ]
  },
  {
   "cell_type": "code",
   "execution_count": 3,
   "id": "9d88abbd",
   "metadata": {},
   "outputs": [],
   "source": [
    "bike_dtypes = {\n",
    "    'ride_id': str,\n",
    "    'rideable_type': str,\n",
    "    'started_at': str,\n",
    "    'ended_at': str,\n",
    "    'start_station_name': str,\n",
    "    'start_station_id': str,\n",
    "    'end_station_name': str,\n",
    "    'end_station_id': str,\n",
    "    'start_lat': float,\n",
    "    'start_lng': float,\n",
    "    'end_lat': float,\n",
    "    'end_lng': float,\n",
    "    'member_casual': str,\n",
    "    'time': float,\n",
    "    'distance': float,\n",
    "}"
   ]
  },
  {
   "cell_type": "code",
   "execution_count": 6,
   "id": "6a42f0d6",
   "metadata": {},
   "outputs": [],
   "source": [
    "weather_dtypes = {\n",
    "    'name': str,\n",
    "    'datetime': str,\n",
    "    'temp': float,\n",
    "    'feelslike': float,\n",
    "    'humidity': float,\n",
    "    'precip': float,\n",
    "    'precipprob': float,\n",
    "    'preciptype': str,\n",
    "    'snow': float,\n",
    "    'snowdepth': float,\n",
    "    'windgust': float,\n",
    "    'windspeed': float,\n",
    "    'winddir': float,\n",
    "    'sealevelpressure': float,\n",
    "    'cloudcover': float,\n",
    "    'visibility': float,\n",
    "    'solarradiation': float,\n",
    "    'solarenergy': float,\n",
    "    'uvindex': float,\n",
    "    'severerisk': str,\n",
    "    'conditions': str,\n",
    "    'icon': str,\n",
    "    'stations': str,\n",
    "}"
   ]
  },
  {
   "cell_type": "code",
   "execution_count": 7,
   "id": "bfeb5de4",
   "metadata": {
    "scrolled": true
   },
   "outputs": [],
   "source": [
    "data_path = os.getcwd() + '/../data/'"
   ]
  },
  {
   "cell_type": "code",
   "execution_count": 8,
   "id": "ee782739",
   "metadata": {},
   "outputs": [],
   "source": [
    "bike_data = pd.read_csv(data_path+'data_dist_time.csv', dtype=bike_dtypes, index_col=0)"
   ]
  },
  {
   "cell_type": "code",
   "execution_count": 9,
   "id": "ed7adb99",
   "metadata": {},
   "outputs": [],
   "source": [
    "weather_data = pd.read_csv(data_path+'chicago_04012020-05312023.csv', dtype=weather_dtypes, index_col=0)"
   ]
  },
  {
   "cell_type": "code",
   "execution_count": 10,
   "id": "90ff0b0b",
   "metadata": {},
   "outputs": [
    {
     "name": "stdout",
     "output_type": "stream",
     "text": [
      "<class 'pandas.core.frame.DataFrame'>\n",
      "Index: 16031963 entries, 0 to 16048416\n",
      "Data columns (total 15 columns):\n",
      " #   Column              Dtype  \n",
      "---  ------              -----  \n",
      " 0   ride_id             object \n",
      " 1   rideable_type       object \n",
      " 2   started_at          object \n",
      " 3   ended_at            object \n",
      " 4   start_station_name  object \n",
      " 5   start_station_id    object \n",
      " 6   end_station_name    object \n",
      " 7   end_station_id      object \n",
      " 8   start_lat           float64\n",
      " 9   start_lng           float64\n",
      " 10  end_lat             float64\n",
      " 11  end_lng             float64\n",
      " 12  member_casual       object \n",
      " 13  time                float64\n",
      " 14  distance            float64\n",
      "dtypes: float64(6), object(9)\n",
      "memory usage: 1.9+ GB\n",
      "<class 'pandas.core.frame.DataFrame'>\n",
      "Index: 27744 entries, chicago to chicago\n",
      "Data columns (total 23 columns):\n",
      " #   Column            Non-Null Count  Dtype  \n",
      "---  ------            --------------  -----  \n",
      " 0   datetime          27744 non-null  object \n",
      " 1   temp              27744 non-null  float64\n",
      " 2   feelslike         27744 non-null  float64\n",
      " 3   dew               27744 non-null  float64\n",
      " 4   humidity          27744 non-null  float64\n",
      " 5   precip            27744 non-null  float64\n",
      " 6   precipprob        27744 non-null  float64\n",
      " 7   preciptype        3896 non-null   object \n",
      " 8   snow              27744 non-null  float64\n",
      " 9   snowdepth         27744 non-null  float64\n",
      " 10  windgust          16963 non-null  float64\n",
      " 11  windspeed         27744 non-null  float64\n",
      " 12  winddir           27744 non-null  float64\n",
      " 13  sealevelpressure  27744 non-null  float64\n",
      " 14  cloudcover        27744 non-null  float64\n",
      " 15  visibility        27744 non-null  float64\n",
      " 16  solarradiation    27744 non-null  float64\n",
      " 17  solarenergy       27744 non-null  float64\n",
      " 18  uvindex           27744 non-null  float64\n",
      " 19  severerisk        12161 non-null  object \n",
      " 20  conditions        27744 non-null  object \n",
      " 21  icon              27744 non-null  object \n",
      " 22  stations          27744 non-null  object \n",
      "dtypes: float64(17), object(6)\n",
      "memory usage: 5.1+ MB\n"
     ]
    }
   ],
   "source": [
    "bike_data.info()\n",
    "weather_data.info()"
   ]
  },
  {
   "cell_type": "markdown",
   "id": "385b0b17",
   "metadata": {},
   "source": [
    "### Cleaning the datasets"
   ]
  },
  {
   "cell_type": "markdown",
   "id": "f626c5c3",
   "metadata": {},
   "source": [
    "I will redo the same cleaning operations performed in `eda.ipynb`, with the same justifications provided there. Additionally, I will clean and remove the unnecessary information in the new weather dataset."
   ]
  }
 ],
 "metadata": {
  "kernelspec": {
   "display_name": "Python 3 (ipykernel)",
   "language": "python",
   "name": "python3"
  },
  "language_info": {
   "codemirror_mode": {
    "name": "ipython",
    "version": 3
   },
   "file_extension": ".py",
   "mimetype": "text/x-python",
   "name": "python",
   "nbconvert_exporter": "python",
   "pygments_lexer": "ipython3",
   "version": "3.11.2"
  }
 },
 "nbformat": 4,
 "nbformat_minor": 5
}
